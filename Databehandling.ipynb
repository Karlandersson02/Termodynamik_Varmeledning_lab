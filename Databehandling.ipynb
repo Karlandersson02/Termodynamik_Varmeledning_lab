{
 "cells": [
  {
   "cell_type": "code",
   "execution_count": 27,
   "metadata": {},
   "outputs": [],
   "source": [
    "import pandas as pd\n",
    "import numpy as np\n",
    "\n"
   ]
  },
  {
   "cell_type": "code",
   "execution_count": null,
   "metadata": {},
   "outputs": [],
   "source": [
    "Spänning1 = pd.read_csv(r'./Mätningar/Spänning1.csv', delimiter=';')\n",
    "Spänning2 = pd.read_csv(r'./Mätningar/Spänning2.csv', delimiter=';')\n",
    "Temperatur1 = pd.read_csv(r'./Mätningar/Temperatur1.csv', delimiter=';')\n",
    "Temperatur2 = pd.read_csv(r'./Mätningar/Temperatur2.csv', delimiter=';')\n",
    "\n",
    "def csv_till_float(dataframe):\n",
    "    for i in range(len(dataframe['Amplitude'])):\n",
    "        dataframe['Amplitude'][i] = float('.'.join(dataframe['Amplitude'][i].split(',')))\n",
    "    return\n",
    "\n",
    "def iteration_till_tid(dataframe, Mätintervall):\n",
    "    \n",
    "    for i in range(len(dataframe['Iteration'])):\n",
    "\n",
    "csv_till_float(Spänning1)\n",
    "csv_till_float(Spänning2)\n",
    "csv_till_float(Temperatur1)\n",
    "csv_till_float(Temperatur2)"
   ]
  },
  {
   "cell_type": "code",
   "execution_count": 31,
   "metadata": {},
   "outputs": [
    {
     "name": "stdout",
     "output_type": "stream",
     "text": [
      "<class 'float'>\n"
     ]
    }
   ],
   "source": [
    "print(type(Spänning1['Amplitude'][6]))"
   ]
  }
 ],
 "metadata": {
  "kernelspec": {
   "display_name": "Python 3",
   "language": "python",
   "name": "python3"
  },
  "language_info": {
   "codemirror_mode": {
    "name": "ipython",
    "version": 3
   },
   "file_extension": ".py",
   "mimetype": "text/x-python",
   "name": "python",
   "nbconvert_exporter": "python",
   "pygments_lexer": "ipython3",
   "version": "3.10.11"
  }
 },
 "nbformat": 4,
 "nbformat_minor": 2
}
